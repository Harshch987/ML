{
 "cells": [
  {
   "cell_type": "code",
   "execution_count": 70,
   "metadata": {},
   "outputs": [
    {
     "name": "stdout",
     "output_type": "stream",
     "text": [
      "[['sepal_length' 'sepal_width' 'petal_length' 'petal_width']\n",
      " ['5.1' '3.5' '1.4' '0.2']\n",
      " ['4.9' '3' '-1.3' '0.2']\n",
      " ['4.7' '3.2' '1.3' '0.2']\n",
      " ['4.6' '-2.2' '1.5' '0.2']\n",
      " ['5' '3.6' '1.4' '0.2']\n",
      " ['5.4' '3.9' '1.7' '0.4']\n",
      " ['4.6' '3.4' '1.4' '0.3']\n",
      " ['5' '3.4' '1.5' '0.2']\n",
      " ['4.4' '2.9' '1.4' '0.2']\n",
      " ['4.9' '3.1' '1.5' '0.1']\n",
      " ['5.4' '3.7' '1.5' '0.2']\n",
      " ['4.8' '3.4' '1.6' '0.2']\n",
      " ['4.8' '-0.3' '1.4' '0.1']\n",
      " ['4.3' '3' '1.1' '0.1']\n",
      " ['5.8' '4' '1.2' '0.2']\n",
      " ['5.7' '4.4' '1.5' '0.4']\n",
      " ['5.4' '3.9' '1.3' '0.4']\n",
      " ['5.1' '3.5' '1.4' '0.3']\n",
      " ['-5.7' '3.8' '1.7' '0.3']\n",
      " ['5.1' '3.8' '1.5' '0.3']\n",
      " ['5.4' '3.4' '1.7' '0.2']\n",
      " ['5.1' '3.7' '1.5' '0.4']\n",
      " ['4.6' '3.6' '1' '0.2']\n",
      " ['5.1' '3.3' '1.7' '0.5']\n",
      " ['4.8' '3.4' '1.9' '0.2']\n",
      " ['5' '3' '1.6' '0.2']\n",
      " ['5' '3.4' '1.6' '0.4']\n",
      " ['5.2' '3.5' '1.5' '0.2']\n",
      " ['5.2' '3.4' '1.4' '0.2']\n",
      " ['4.7' '3.2' '1.6' '0.2']\n",
      " ['4.8' '3.1' '1.6' '0.2']\n",
      " ['5.4' '3.4' '1.5' '0.4']\n",
      " ['5.2' '4.1' '1.5' '0.1']\n",
      " ['5.5' '4.2' '1.4' '0.2']\n",
      " ['4.9' '3.1' '1.5' '0.1']\n",
      " ['5' '3.2' '1.2' '0.2']\n",
      " ['5.5' '3.5' '1.3' '0.2']\n",
      " ['4.9' '3.1' '1.5' '0.1']\n",
      " ['4.4' '3' '1.3' '0.2']\n",
      " ['5.1' '3.4' '1.5' '0.2']\n",
      " ['5' '3.5' '1.3' '0.3']\n",
      " ['4.5' '2.3' '1.3' '0.3']\n",
      " ['4.4' '3.2' '1.3' '0.2']\n",
      " ['5' '3.5' '1.6' '0.6']\n",
      " ['5.1' '3.8' '1.9' '0.4']\n",
      " ['4.8' '3' '1.4' '0.3']\n",
      " ['5.1' '3.8' '1.6' '0.2']\n",
      " ['4.6' '3.2' '1.4' '0.2']\n",
      " ['5.3' '3.7' '1.5' '0.2']\n",
      " ['5' '3.3' '1.4' '0.2']\n",
      " ['7' '3.2' '4.7' '1.4']\n",
      " ['6.4' '3.2' '4.5' '1.5']\n",
      " ['6.9' '3.1' '4.9' '1.5']\n",
      " ['5.5' '2.3' '4' '1.3']\n",
      " ['6.5' '2.8' '4.6' '1.5']\n",
      " ['5.7' '2.8' '4.5' '1.3']\n",
      " ['6.3' '3.3' '4.7' '1.6']\n",
      " ['4.9' '2.4' '3.3' '1']\n",
      " ['6.6' '2.9' '4.6' '1.3']\n",
      " ['5.2' '2.7' '3.9' '1.4']\n",
      " ['5' '2' '3.5' '1']\n",
      " ['5.9' '3' '4.2' '1.5']\n",
      " ['6' '2.2' '4' '1']\n",
      " ['6.1' '2.9' '4.7' '1.4']\n",
      " ['5.6' '2.9' '3.6' '1.3']\n",
      " ['6.7' '3.1' '4.4' '1.4']\n",
      " ['5.6' '3' '4.5' '1.5']\n",
      " ['5.8' '2.7' '4.1' '1']\n",
      " ['6.2' '2.2' '4.5' '1.5']\n",
      " ['5.6' '2.5' '3.9' '1.1']\n",
      " ['5.9' '3.2' '4.8' '1.8']\n",
      " ['6.1' '2.8' '4' '1.3']\n",
      " ['6.3' '2.5' '4.9' '1.5']\n",
      " ['6.1' '2.8' '4.7' '1.2']\n",
      " ['6.4' '2.9' '4.3' '1.3']\n",
      " ['6.6' '3' '4.4' '1.4']\n",
      " ['6.8' '2.8' '4.8' '1.4']\n",
      " ['6.7' '3' '5' '1.7']\n",
      " ['6' '2.9' '4.5' '1.5']\n",
      " ['5.7' '2.6' '3.5' '1']\n",
      " ['5.5' '2.4' '3.8' '1.1']\n",
      " ['5.5' '2.4' '3.7' '1']\n",
      " ['5.8' '2.7' '3.9' '1.2']\n",
      " ['6' '2.7' '5.1' '1.6']\n",
      " ['5.4' '3' '4.5' '1.5']\n",
      " ['6' '3.4' '4.5' '1.6']\n",
      " ['6.7' '3.1' '4.7' '1.5']\n",
      " ['6.3' '2.3' '4.4' '1.3']\n",
      " ['5.6' '3' '4.1' '1.3']\n",
      " ['5.5' '2.5' '4' '1.3']\n",
      " ['5.5' '2.6' '4.4' '1.2']\n",
      " ['6.1' '3' '4.6' '1.4']\n",
      " ['5.8' '2.6' '4' '1.2']\n",
      " ['5' '2.3' '3.3' '1']\n",
      " ['5.6' '2.7' '4.2' '1.3']\n",
      " ['5.7' '3' '4.2' '1.2']\n",
      " ['5.7' '2.9' '4.2' '1.3']\n",
      " ['6.2' '2.9' '4.3' '1.3']\n",
      " ['5.1' '2.5' '3' '1.1']]\n"
     ]
    }
   ],
   "source": [
    "# -*- coding: utf-8 -*-\n",
    "\"\"\"\n",
    "Created on Thu May  7 09:08:55 2020\n",
    "\n",
    "@author: Anmol\n",
    "\"\"\"\n",
    "\n",
    "import numpy as np\n",
    "import pandas as pd\n",
    "import matplotlib.pyplot as plt\n",
    "\n",
    "class perceptron(object):\n",
    "    def __init__(self,eta=0.01,n_iter=10):\n",
    "        self.eta=eta\n",
    "        self.n_iter=n_iter\n",
    "    \n",
    "    def fit(self,X,y):   #for train\n",
    "        self.w_=np.zeros(1+X.shape[1]) #\n",
    "        self.errors=[]\n",
    "        \n",
    "        for d in range(self.n_iter):\n",
    "            errors=0\n",
    "            for xi,target in zip(X,y):\n",
    "                update = self.eta*(float(target-self.predict(xi)))\n",
    "                self.w_[1:]+=update*xi\n",
    "                self.w_[0]+=update\n",
    "                errors+=int(update!=0.0)\n",
    "            self.errors.append(errors)\n",
    "            \n",
    "        return self\n",
    "    \n",
    "    \n",
    "    def net_input(self,X):\n",
    "        return np.dot(float(self.w_[1:],X))+self.w_[0]\n",
    "    \n",
    "    def predict(self,X):\n",
    "        return np.where(float(self.net_input(X)) >= 0.0,1,-1)\n",
    "        \n",
    "\n",
    "df=pd.read_csv('D:\\Edge Download\\Iris\\iris.csv', header=None)\n",
    "#print(df)\n",
    "y=df.iloc[0:100,4].values\n",
    "y=np.where(y=='setosa',-1,1)\n",
    "X=df.iloc[0:100,0:4].values\n",
    "print(X)\n"
   ]
  },
  {
   "cell_type": "code",
   "execution_count": 71,
   "metadata": {},
   "outputs": [
    {
     "data": {
      "image/png": "[encoded data removed]",
      "text/plain": [
       "<Figure size 432x288 with 1 Axes>"
      ]
     },
     "metadata": {
      "needs_background": "light"
     },
     "output_type": "display_data"
    }
   ],
   "source": [
    "plt.scatter(X[:50,0],X[:50,1],color='blue',marker='o',label='Setosa')#50 values in rows\n",
    "plt.scatter(X[50:100,0],X[50:100,1],color='red',marker='x',label='Versicolor')\n",
    "plt.xlabel('sepal')\n",
    "plt.ylabel('petal')\n",
    "#plt.legend(loc='upper-left')\n",
    "plt.show()"
   ]
  },
  {
   "cell_type": "code",
   "execution_count": null,
   "metadata": {},
   "outputs": [],
   "source": [
    "ppn=perceptron(eta=0.1,n_iter=10)\n",
    "ppn.fit(X,y)\n",
    "print(ppn.w_)"
   ]
  },
  {
   "cell_type": "code",
   "execution_count": 68,
   "metadata": {},
   "outputs": [
    {
     "data": {
      "image/png": "[encoded data removed]",
      "text/plain": [
       "<Figure size 432x288 with 1 Axes>"
      ]
     },
     "metadata": {
      "needs_background": "light"
     },
     "output_type": "display_data"
    }
   ],
   "source": [
    "plt.plot(range(1,len(ppn.errors)+1),ppn.errors)\n",
    "plt.xlabel('Attempts')\n",
    "plt.ylabel('Classification')\n",
    "plt.show()"
   ]
  },
  {
   "cell_type": "code",
   "execution_count": null,
   "metadata": {},
   "outputs": [],
   "source": [
    "if ppn.predict([5.0, 1.4, 1.2, 2.2]) == -1:\n",
    "    print(\"Setosa\")\n",
    "else:\n",
    "    print(\"Not Setosa\")"
   ]
  }
 ],
 "metadata": {
  "kernelspec": {
   "display_name": "Python 3",
   "language": "python",
   "name": "python3"
  },
  "language_info": {
   "codemirror_mode": {
    "name": "ipython",
    "version": 3
   },
   "file_extension": ".py",
   "mimetype": "text/x-python",
   "name": "python",
   "nbconvert_exporter": "python",
   "pygments_lexer": "ipython3",
   "version": "3.7.4"
  }
 },
 "nbformat": 4,
 "nbformat_minor": 2
}
